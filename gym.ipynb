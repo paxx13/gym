{
  "nbformat": 4,
  "nbformat_minor": 0,
  "metadata": {
    "colab": {
      "name": "Overview of Colaboratory Features",
      "version": "0.3.2",
      "provenance": [],
      "collapsed_sections": [],
      "toc_visible": true,
      "include_colab_link": true
    },
    "kernelspec": {
      "display_name": "Python 3",
      "name": "python3"
    }
  },
  "cells": [
    {
      "cell_type": "markdown",
      "metadata": {
        "id": "view-in-github",
        "colab_type": "text"
      },
      "source": [
        "[View in Colaboratory](https://colab.research.google.com/github/paxx13/gym/blob/master/gym.ipynb)"
      ]
    },
    {
      "metadata": {
        "id": "4o-cRvVck1dW",
        "colab_type": "text"
      },
      "cell_type": "markdown",
      "source": [
        "# setup environment"
      ]
    },
    {
      "metadata": {
        "id": "Z2tw1PWYjtga",
        "colab_type": "code",
        "colab": {
          "base_uri": "https://localhost:8080/",
          "height": 130
        },
        "outputId": "86571e7f-72cc-490b-9bee-6bd492214751"
      },
      "cell_type": "code",
      "source": [
        "#%%capture\n",
        "!apt-get install -y python-numpy python-dev cmake zlib1g-dev libjpeg- dev xvfb xephyr libav-tools xorg-dev python-opengl libboost-all-dev libsdl2-dev swig"
      ],
      "execution_count": 8,
      "outputs": [
        {
          "output_type": "stream",
          "text": [
            "Reading package lists... Done\n",
            "Building dependency tree       \n",
            "Reading state information... Done\n",
            "E: Unable to locate package libjpeg\n",
            "E: Unable to locate package dev\n",
            "E: Unable to locate package xephyr\n"
          ],
          "name": "stdout"
        }
      ]
    },
    {
      "metadata": {
        "id": "e-tDks6mmDj9",
        "colab_type": "code",
        "colab": {
          "base_uri": "https://localhost:8080/",
          "height": 111
        },
        "outputId": "3fa3423f-3cfb-40ac-c05f-5d933445f554"
      },
      "cell_type": "code",
      "source": [
        "#%%capture\n",
        "!apt-get install xvfb -y"
      ],
      "execution_count": 18,
      "outputs": [
        {
          "output_type": "stream",
          "text": [
            "Reading package lists... Done\n",
            "Building dependency tree       \n",
            "Reading state information... Done\n",
            "xvfb is already the newest version (2:1.19.5-0ubuntu2).\n",
            "0 upgraded, 0 newly installed, 0 to remove and 0 not upgraded.\n"
          ],
          "name": "stdout"
        }
      ]
    },
    {
      "metadata": {
        "id": "oiHMqGvFKR1a",
        "colab_type": "code",
        "colab": {
          "base_uri": "https://localhost:8080/",
          "height": 4017
        },
        "outputId": "d299b4ad-7c0f-4ef8-dcad-33c43220a71b"
      },
      "cell_type": "code",
      "source": [
        "#%%capture\n",
        "!apt install freeglut3-dev"
      ],
      "execution_count": 30,
      "outputs": [
        {
          "output_type": "stream",
          "text": [
            "Reading package lists... Done\n",
            "Building dependency tree       \n",
            "Reading state information... Done\n",
            "The following additional packages will be installed:\n",
            "  freeglut3 libdrm-dev libgl1-mesa-dev libglu1-mesa libglu1-mesa-dev\n",
            "  libice-dev libsm-dev libx11-xcb-dev libxcb-dri2-0-dev libxcb-dri3-dev\n",
            "  libxcb-glx0-dev libxcb-present-dev libxcb-randr0 libxcb-randr0-dev\n",
            "  libxcb-render0 libxcb-render0-dev libxcb-shape0 libxcb-shape0-dev\n",
            "  libxcb-sync-dev libxcb-xfixes0 libxcb-xfixes0-dev libxdamage-dev libxext-dev\n",
            "  libxfixes-dev libxi6 libxshmfence-dev libxt-dev libxxf86vm-dev\n",
            "  mesa-common-dev x11proto-damage-dev x11proto-dri2-dev x11proto-fixes-dev\n",
            "  x11proto-gl-dev x11proto-xext-dev x11proto-xf86vidmode-dev\n",
            "Suggested packages:\n",
            "  libice-doc libsm-doc libxext-doc libxt-doc\n",
            "The following NEW packages will be installed:\n",
            "  freeglut3 freeglut3-dev libdrm-dev libgl1-mesa-dev libglu1-mesa\n",
            "  libglu1-mesa-dev libice-dev libsm-dev libx11-xcb-dev libxcb-dri2-0-dev\n",
            "  libxcb-dri3-dev libxcb-glx0-dev libxcb-present-dev libxcb-randr0\n",
            "  libxcb-randr0-dev libxcb-render0 libxcb-render0-dev libxcb-shape0\n",
            "  libxcb-shape0-dev libxcb-sync-dev libxcb-xfixes0 libxcb-xfixes0-dev\n",
            "  libxdamage-dev libxext-dev libxfixes-dev libxi6 libxshmfence-dev libxt-dev\n",
            "  libxxf86vm-dev mesa-common-dev x11proto-damage-dev x11proto-dri2-dev\n",
            "  x11proto-fixes-dev x11proto-gl-dev x11proto-xext-dev\n",
            "  x11proto-xf86vidmode-dev\n",
            "0 upgraded, 36 newly installed, 0 to remove and 0 not upgraded.\n",
            "Need to get 2,373 kB of archives.\n",
            "After this operation, 12.7 MB of additional disk space will be used.\n",
            "Get:1 http://archive.ubuntu.com/ubuntu artful/main amd64 libxi6 amd64 2:1.7.9-1 [29.2 kB]\n",
            "Get:2 http://archive.ubuntu.com/ubuntu artful/universe amd64 freeglut3 amd64 2.8.1-3 [73.6 kB]\n",
            "Get:3 http://archive.ubuntu.com/ubuntu artful/main amd64 libdrm-dev amd64 2.4.83-1 [234 kB]\n",
            "Get:4 http://archive.ubuntu.com/ubuntu artful-updates/main amd64 mesa-common-dev amd64 17.2.8-0ubuntu0~17.10.1 [519 kB]\n",
            "Get:5 http://archive.ubuntu.com/ubuntu artful/main amd64 libx11-xcb-dev amd64 2:1.6.4-3 [9,660 B]\n",
            "Get:6 http://archive.ubuntu.com/ubuntu artful/main amd64 libxcb-dri3-dev amd64 1.12-1ubuntu1 [5,742 B]\n",
            "Get:7 http://archive.ubuntu.com/ubuntu artful/main amd64 libxcb-randr0 amd64 1.12-1ubuntu1 [16.0 kB]\n",
            "Get:8 http://archive.ubuntu.com/ubuntu artful/main amd64 libxcb-render0 amd64 1.12-1ubuntu1 [14.8 kB]\n",
            "Get:9 http://archive.ubuntu.com/ubuntu artful/main amd64 libxcb-render0-dev amd64 1.12-1ubuntu1 [18.3 kB]\n",
            "Get:10 http://archive.ubuntu.com/ubuntu artful/main amd64 libxcb-randr0-dev amd64 1.12-1ubuntu1 [19.5 kB]\n",
            "Get:11 http://archive.ubuntu.com/ubuntu artful/main amd64 libxcb-xfixes0 amd64 1.12-1ubuntu1 [9,292 B]\n",
            "Get:12 http://archive.ubuntu.com/ubuntu artful/main amd64 libxcb-shape0 amd64 1.12-1ubuntu1 [5,864 B]\n",
            "Get:13 http://archive.ubuntu.com/ubuntu artful/main amd64 libxcb-shape0-dev amd64 1.12-1ubuntu1 [7,056 B]\n",
            "Get:14 http://archive.ubuntu.com/ubuntu artful/main amd64 libxcb-xfixes0-dev amd64 1.12-1ubuntu1 [11.6 kB]\n",
            "Get:15 http://archive.ubuntu.com/ubuntu artful/main amd64 libxcb-sync-dev amd64 1.12-1ubuntu1 [10.5 kB]\n",
            "Get:16 http://archive.ubuntu.com/ubuntu artful/main amd64 libxcb-present-dev amd64 1.12-1ubuntu1 [6,868 B]\n",
            "Get:17 http://archive.ubuntu.com/ubuntu artful/main amd64 libxshmfence-dev amd64 1.2-1 [3,676 B]\n",
            "Get:18 http://archive.ubuntu.com/ubuntu artful/main amd64 libxcb-dri2-0-dev amd64 1.12-1ubuntu1 [8,376 B]\n",
            "Get:19 http://archive.ubuntu.com/ubuntu artful/main amd64 libxcb-glx0-dev amd64 1.12-1ubuntu1 [27.5 kB]\n",
            "Get:20 http://archive.ubuntu.com/ubuntu artful/main amd64 x11proto-xext-dev all 7.3.0-1 [212 kB]\n",
            "Get:21 http://archive.ubuntu.com/ubuntu artful/main amd64 x11proto-fixes-dev all 1:5.0-2ubuntu2 [14.2 kB]\n",
            "Get:22 http://archive.ubuntu.com/ubuntu artful/main amd64 libxfixes-dev amd64 1:5.0.3-1 [11.0 kB]\n",
            "Get:23 http://archive.ubuntu.com/ubuntu artful/main amd64 x11proto-damage-dev all 1:1.2.1-2 [8,286 B]\n",
            "Get:24 http://archive.ubuntu.com/ubuntu artful/main amd64 libxdamage-dev amd64 1:1.1.4-3 [5,028 B]\n",
            "Get:25 http://archive.ubuntu.com/ubuntu artful/main amd64 libxext-dev amd64 2:1.3.3-1 [82.1 kB]\n",
            "Get:26 http://archive.ubuntu.com/ubuntu artful/main amd64 x11proto-xf86vidmode-dev all 2.3.1-2 [6,116 B]\n",
            "Get:27 http://archive.ubuntu.com/ubuntu artful/main amd64 libxxf86vm-dev amd64 1:1.1.4-1 [13.3 kB]\n",
            "Get:28 http://archive.ubuntu.com/ubuntu artful/main amd64 x11proto-dri2-dev all 2.8-2 [12.6 kB]\n",
            "Get:29 http://archive.ubuntu.com/ubuntu artful/main amd64 x11proto-gl-dev all 1.4.17-1 [17.9 kB]\n",
            "Get:30 http://archive.ubuntu.com/ubuntu artful-updates/main amd64 libgl1-mesa-dev amd64 17.2.8-0ubuntu0~17.10.1 [4,436 B]\n",
            "Get:31 http://archive.ubuntu.com/ubuntu artful/main amd64 libglu1-mesa amd64 9.0.0-2.1build1 [168 kB]\n",
            "Get:32 http://archive.ubuntu.com/ubuntu artful/main amd64 libglu1-mesa-dev amd64 9.0.0-2.1build1 [206 kB]\n",
            "Get:33 http://archive.ubuntu.com/ubuntu artful/main amd64 libice-dev amd64 2:1.0.9-2 [46.8 kB]\n",
            "Get:34 http://archive.ubuntu.com/ubuntu artful/main amd64 libsm-dev amd64 2:1.2.2-1 [16.2 kB]\n",
            "Get:35 http://archive.ubuntu.com/ubuntu artful/main amd64 libxt-dev amd64 1:1.1.5-1 [395 kB]\n",
            "Get:36 http://archive.ubuntu.com/ubuntu artful/universe amd64 freeglut3-dev amd64 2.8.1-3 [124 kB]\n",
            "Fetched 2,373 kB in 1s (1,702 kB/s)\n",
            "Extracting templates from packages: 100%\n",
            "Selecting previously unselected package libxi6:amd64.\n",
            "(Reading database ... 19493 files and directories currently installed.)\n",
            "Preparing to unpack .../00-libxi6_2%3a1.7.9-1_amd64.deb ...\n",
            "Unpacking libxi6:amd64 (2:1.7.9-1) ...\n",
            "Selecting previously unselected package freeglut3:amd64.\n",
            "Preparing to unpack .../01-freeglut3_2.8.1-3_amd64.deb ...\n",
            "Unpacking freeglut3:amd64 (2.8.1-3) ...\n",
            "Selecting previously unselected package libdrm-dev:amd64.\n",
            "Preparing to unpack .../02-libdrm-dev_2.4.83-1_amd64.deb ...\n",
            "Unpacking libdrm-dev:amd64 (2.4.83-1) ...\n",
            "Selecting previously unselected package mesa-common-dev:amd64.\n",
            "Preparing to unpack .../03-mesa-common-dev_17.2.8-0ubuntu0~17.10.1_amd64.deb ...\n",
            "Unpacking mesa-common-dev:amd64 (17.2.8-0ubuntu0~17.10.1) ...\n",
            "Selecting previously unselected package libx11-xcb-dev:amd64.\n",
            "Preparing to unpack .../04-libx11-xcb-dev_2%3a1.6.4-3_amd64.deb ...\n",
            "Unpacking libx11-xcb-dev:amd64 (2:1.6.4-3) ...\n",
            "Selecting previously unselected package libxcb-dri3-dev:amd64.\n",
            "Preparing to unpack .../05-libxcb-dri3-dev_1.12-1ubuntu1_amd64.deb ...\n",
            "Unpacking libxcb-dri3-dev:amd64 (1.12-1ubuntu1) ...\n",
            "Selecting previously unselected package libxcb-randr0:amd64.\n",
            "Preparing to unpack .../06-libxcb-randr0_1.12-1ubuntu1_amd64.deb ...\n",
            "Unpacking libxcb-randr0:amd64 (1.12-1ubuntu1) ...\n",
            "Selecting previously unselected package libxcb-render0:amd64.\n",
            "Preparing to unpack .../07-libxcb-render0_1.12-1ubuntu1_amd64.deb ...\n",
            "Unpacking libxcb-render0:amd64 (1.12-1ubuntu1) ...\n",
            "Selecting previously unselected package libxcb-render0-dev:amd64.\n",
            "Preparing to unpack .../08-libxcb-render0-dev_1.12-1ubuntu1_amd64.deb ...\n",
            "Unpacking libxcb-render0-dev:amd64 (1.12-1ubuntu1) ...\n",
            "Selecting previously unselected package libxcb-randr0-dev:amd64.\n",
            "Preparing to unpack .../09-libxcb-randr0-dev_1.12-1ubuntu1_amd64.deb ...\n",
            "Unpacking libxcb-randr0-dev:amd64 (1.12-1ubuntu1) ...\n",
            "Selecting previously unselected package libxcb-xfixes0:amd64.\n",
            "Preparing to unpack .../10-libxcb-xfixes0_1.12-1ubuntu1_amd64.deb ...\n",
            "Unpacking libxcb-xfixes0:amd64 (1.12-1ubuntu1) ...\n",
            "Selecting previously unselected package libxcb-shape0:amd64.\n",
            "Preparing to unpack .../11-libxcb-shape0_1.12-1ubuntu1_amd64.deb ...\n",
            "Unpacking libxcb-shape0:amd64 (1.12-1ubuntu1) ...\n",
            "Selecting previously unselected package libxcb-shape0-dev:amd64.\n",
            "Preparing to unpack .../12-libxcb-shape0-dev_1.12-1ubuntu1_amd64.deb ...\n",
            "Unpacking libxcb-shape0-dev:amd64 (1.12-1ubuntu1) ...\n",
            "Selecting previously unselected package libxcb-xfixes0-dev:amd64.\n",
            "Preparing to unpack .../13-libxcb-xfixes0-dev_1.12-1ubuntu1_amd64.deb ...\n",
            "Unpacking libxcb-xfixes0-dev:amd64 (1.12-1ubuntu1) ...\n",
            "Selecting previously unselected package libxcb-sync-dev:amd64.\n",
            "Preparing to unpack .../14-libxcb-sync-dev_1.12-1ubuntu1_amd64.deb ...\n",
            "Unpacking libxcb-sync-dev:amd64 (1.12-1ubuntu1) ...\n",
            "Selecting previously unselected package libxcb-present-dev:amd64.\n",
            "Preparing to unpack .../15-libxcb-present-dev_1.12-1ubuntu1_amd64.deb ...\n",
            "Unpacking libxcb-present-dev:amd64 (1.12-1ubuntu1) ...\n",
            "Selecting previously unselected package libxshmfence-dev:amd64.\n",
            "Preparing to unpack .../16-libxshmfence-dev_1.2-1_amd64.deb ...\n",
            "Unpacking libxshmfence-dev:amd64 (1.2-1) ...\n",
            "Selecting previously unselected package libxcb-dri2-0-dev:amd64.\n",
            "Preparing to unpack .../17-libxcb-dri2-0-dev_1.12-1ubuntu1_amd64.deb ...\n",
            "Unpacking libxcb-dri2-0-dev:amd64 (1.12-1ubuntu1) ...\n",
            "Selecting previously unselected package libxcb-glx0-dev:amd64.\n",
            "Preparing to unpack .../18-libxcb-glx0-dev_1.12-1ubuntu1_amd64.deb ...\n",
            "Unpacking libxcb-glx0-dev:amd64 (1.12-1ubuntu1) ...\n",
            "Selecting previously unselected package x11proto-xext-dev.\n",
            "Preparing to unpack .../19-x11proto-xext-dev_7.3.0-1_all.deb ...\n",
            "Unpacking x11proto-xext-dev (7.3.0-1) ...\n",
            "Selecting previously unselected package x11proto-fixes-dev.\n",
            "Preparing to unpack .../20-x11proto-fixes-dev_1%3a5.0-2ubuntu2_all.deb ...\n",
            "Unpacking x11proto-fixes-dev (1:5.0-2ubuntu2) ...\n",
            "Selecting previously unselected package libxfixes-dev:amd64.\n",
            "Preparing to unpack .../21-libxfixes-dev_1%3a5.0.3-1_amd64.deb ...\n",
            "Unpacking libxfixes-dev:amd64 (1:5.0.3-1) ...\n",
            "Selecting previously unselected package x11proto-damage-dev.\n",
            "Preparing to unpack .../22-x11proto-damage-dev_1%3a1.2.1-2_all.deb ...\n",
            "Unpacking x11proto-damage-dev (1:1.2.1-2) ...\n",
            "Selecting previously unselected package libxdamage-dev:amd64.\n",
            "Preparing to unpack .../23-libxdamage-dev_1%3a1.1.4-3_amd64.deb ...\n",
            "Unpacking libxdamage-dev:amd64 (1:1.1.4-3) ...\n",
            "Selecting previously unselected package libxext-dev:amd64.\n",
            "Preparing to unpack .../24-libxext-dev_2%3a1.3.3-1_amd64.deb ...\n",
            "Unpacking libxext-dev:amd64 (2:1.3.3-1) ...\n",
            "Selecting previously unselected package x11proto-xf86vidmode-dev.\n",
            "Preparing to unpack .../25-x11proto-xf86vidmode-dev_2.3.1-2_all.deb ...\n",
            "Unpacking x11proto-xf86vidmode-dev (2.3.1-2) ...\n",
            "Selecting previously unselected package libxxf86vm-dev:amd64.\n",
            "Preparing to unpack .../26-libxxf86vm-dev_1%3a1.1.4-1_amd64.deb ...\n",
            "Unpacking libxxf86vm-dev:amd64 (1:1.1.4-1) ...\n",
            "Selecting previously unselected package x11proto-dri2-dev.\n",
            "Preparing to unpack .../27-x11proto-dri2-dev_2.8-2_all.deb ...\n",
            "Unpacking x11proto-dri2-dev (2.8-2) ...\n",
            "Selecting previously unselected package x11proto-gl-dev.\n",
            "Preparing to unpack .../28-x11proto-gl-dev_1.4.17-1_all.deb ...\n",
            "Unpacking x11proto-gl-dev (1.4.17-1) ...\n",
            "Selecting previously unselected package libgl1-mesa-dev:amd64.\n",
            "Preparing to unpack .../29-libgl1-mesa-dev_17.2.8-0ubuntu0~17.10.1_amd64.deb ...\n",
            "Unpacking libgl1-mesa-dev:amd64 (17.2.8-0ubuntu0~17.10.1) ...\n",
            "Selecting previously unselected package libglu1-mesa:amd64.\n",
            "Preparing to unpack .../30-libglu1-mesa_9.0.0-2.1build1_amd64.deb ...\n",
            "Unpacking libglu1-mesa:amd64 (9.0.0-2.1build1) ...\n",
            "Selecting previously unselected package libglu1-mesa-dev:amd64.\n",
            "Preparing to unpack .../31-libglu1-mesa-dev_9.0.0-2.1build1_amd64.deb ...\n",
            "Unpacking libglu1-mesa-dev:amd64 (9.0.0-2.1build1) ...\n",
            "Selecting previously unselected package libice-dev:amd64.\n",
            "Preparing to unpack .../32-libice-dev_2%3a1.0.9-2_amd64.deb ...\n",
            "Unpacking libice-dev:amd64 (2:1.0.9-2) ...\n",
            "Selecting previously unselected package libsm-dev:amd64.\n",
            "Preparing to unpack .../33-libsm-dev_2%3a1.2.2-1_amd64.deb ...\n",
            "Unpacking libsm-dev:amd64 (2:1.2.2-1) ...\n",
            "Selecting previously unselected package libxt-dev:amd64.\n",
            "Preparing to unpack .../34-libxt-dev_1%3a1.1.5-1_amd64.deb ...\n",
            "Unpacking libxt-dev:amd64 (1:1.1.5-1) ...\n",
            "Selecting previously unselected package freeglut3-dev:amd64.\n",
            "Preparing to unpack .../35-freeglut3-dev_2.8.1-3_amd64.deb ...\n",
            "Unpacking freeglut3-dev:amd64 (2.8.1-3) ...\n",
            "Setting up libxi6:amd64 (2:1.7.9-1) ...\n",
            "Setting up libx11-xcb-dev:amd64 (2:1.6.4-3) ...\n",
            "Setting up x11proto-dri2-dev (2.8-2) ...\n",
            "Setting up freeglut3:amd64 (2.8.1-3) ...\n",
            "Setting up libxcb-randr0:amd64 (1.12-1ubuntu1) ...\n",
            "Setting up libxcb-xfixes0:amd64 (1.12-1ubuntu1) ...\n",
            "Setting up libxcb-render0:amd64 (1.12-1ubuntu1) ...\n",
            "Setting up libxshmfence-dev:amd64 (1.2-1) ...\n",
            "Setting up libdrm-dev:amd64 (2.4.83-1) ...\n",
            "Setting up x11proto-xf86vidmode-dev (2.3.1-2) ...\n",
            "Setting up libxcb-dri2-0-dev:amd64 (1.12-1ubuntu1) ...\n",
            "Setting up libxcb-render0-dev:amd64 (1.12-1ubuntu1) ...\n",
            "Setting up libxcb-dri3-dev:amd64 (1.12-1ubuntu1) ...\n",
            "Setting up x11proto-xext-dev (7.3.0-1) ...\n",
            "Processing triggers for libc-bin (2.26-0ubuntu2.1) ...\n",
            "Setting up libice-dev:amd64 (2:1.0.9-2) ...\n",
            "Setting up libxext-dev:amd64 (2:1.3.3-1) ...\n",
            "Setting up x11proto-gl-dev (1.4.17-1) ...\n",
            "Setting up libxcb-shape0:amd64 (1.12-1ubuntu1) ...\n",
            "Setting up libxcb-glx0-dev:amd64 (1.12-1ubuntu1) ...\n",
            "Setting up libglu1-mesa:amd64 (9.0.0-2.1build1) ...\n",
            "Setting up libxxf86vm-dev:amd64 (1:1.1.4-1) ...\n",
            "Setting up libxcb-sync-dev:amd64 (1.12-1ubuntu1) ...\n",
            "Setting up libxcb-randr0-dev:amd64 (1.12-1ubuntu1) ...\n",
            "Setting up libsm-dev:amd64 (2:1.2.2-1) ...\n",
            "Setting up mesa-common-dev:amd64 (17.2.8-0ubuntu0~17.10.1) ...\n",
            "Setting up x11proto-fixes-dev (1:5.0-2ubuntu2) ...\n",
            "Setting up x11proto-damage-dev (1:1.2.1-2) ...\n",
            "Setting up libxcb-shape0-dev:amd64 (1.12-1ubuntu1) ...\n",
            "Setting up libxfixes-dev:amd64 (1:5.0.3-1) ...\n",
            "Setting up libxt-dev:amd64 (1:1.1.5-1) ...\n",
            "Setting up libxcb-xfixes0-dev:amd64 (1.12-1ubuntu1) ...\n",
            "Setting up libxdamage-dev:amd64 (1:1.1.4-3) ...\n",
            "Setting up libxcb-present-dev:amd64 (1.12-1ubuntu1) ...\n",
            "Setting up libgl1-mesa-dev:amd64 (17.2.8-0ubuntu0~17.10.1) ...\n",
            "Setting up libglu1-mesa-dev:amd64 (9.0.0-2.1build1) ...\n",
            "Setting up freeglut3-dev:amd64 (2.8.1-3) ...\n",
            "Processing triggers for libc-bin (2.26-0ubuntu2.1) ...\n"
          ],
          "name": "stdout"
        }
      ]
    },
    {
      "metadata": {
        "id": "bx05clqpkp99",
        "colab_type": "code",
        "colab": {}
      },
      "cell_type": "code",
      "source": [
        "%%capture\n",
        "!pip install pyvirtualdisplay\n",
        "!pip install piglet\n",
        "!pip install pyopengl\n",
        "!pip install gym"
      ],
      "execution_count": 0,
      "outputs": []
    },
    {
      "metadata": {
        "id": "wVFRr52kkxtf",
        "colab_type": "code",
        "colab": {}
      },
      "cell_type": "code",
      "source": [
        "from pyvirtualdisplay import Display\n",
        "\n",
        "display=Display(visible=0, size=(320, 240)).start()\n",
        "\n",
        "import os\n",
        "'''\n",
        "if type(os.environ.get(\"Display\")) is not str or len(os.environ.get(\"Display\")) == 0:\n",
        "  !bash ../xvfb start\n",
        "  %env DISPLAY=:1\n",
        "'''\n",
        "os.environ[\"DISPLAY\"] = \":\" + str(display.display) + \".\" + str(display.screen)"
      ],
      "execution_count": 0,
      "outputs": []
    },
    {
      "metadata": {
        "id": "aOkkZnYJvjs2",
        "colab_type": "code",
        "colab": {}
      },
      "cell_type": "code",
      "source": [
        "import matplotlib.pyplot as plt"
      ],
      "execution_count": 0,
      "outputs": []
    },
    {
      "metadata": {
        "id": "Xojrl2fgvRzQ",
        "colab_type": "text"
      },
      "cell_type": "markdown",
      "source": [
        "# model"
      ]
    },
    {
      "metadata": {
        "id": "BodDRni0lLyj",
        "colab_type": "code",
        "colab": {
          "base_uri": "https://localhost:8080/",
          "height": 745
        },
        "outputId": "c7186608-d6bd-45a8-a0b8-b16934b7ddc7"
      },
      "cell_type": "code",
      "source": [
        "import gym\n",
        "env = gym.make('CartPole-v0')\n",
        "for i_episode in range(20):\n",
        "    observation = env.reset()\n",
        "    for t in range(100):\n",
        "        #env.render()\n",
        "        plt.imshow(env.render(mode='rgb_array'))\n",
        "        #print(observation)\n",
        "        action = env.action_space.sample()\n",
        "        observation, reward, done, info = env.step(action)\n",
        "        if done:\n",
        "            print(\"Episode finished after {} timesteps\".format(t+1))\n",
        "            break"
      ],
      "execution_count": 32,
      "outputs": [
        {
          "output_type": "stream",
          "text": [
            "\u001b[33mWARN: gym.spaces.Box autodetected dtype as <class 'numpy.float32'>. Please provide explicit dtype.\u001b[0m\n",
            "Episode finished after 19 timesteps\n",
            "Episode finished after 34 timesteps\n",
            "Episode finished after 14 timesteps\n",
            "Episode finished after 16 timesteps\n",
            "Episode finished after 13 timesteps\n",
            "Episode finished after 17 timesteps\n",
            "Episode finished after 13 timesteps\n",
            "Episode finished after 17 timesteps\n",
            "Episode finished after 21 timesteps\n",
            "Episode finished after 26 timesteps\n",
            "Episode finished after 16 timesteps\n",
            "Episode finished after 12 timesteps\n",
            "Episode finished after 10 timesteps\n",
            "Episode finished after 15 timesteps\n",
            "Episode finished after 16 timesteps\n",
            "Episode finished after 32 timesteps\n",
            "Episode finished after 52 timesteps\n",
            "Episode finished after 10 timesteps\n",
            "Episode finished after 34 timesteps\n",
            "Episode finished after 15 timesteps\n"
          ],
          "name": "stdout"
        },
        {
          "output_type": "display_data",
          "data": {
            "image/png": "[encoded data removed]",
            "text/plain": [
              "<matplotlib.figure.Figure at 0x7f4b8a8fc128>"
            ]
          },
          "metadata": {
            "tags": []
          }
        }
      ]
    },
    {
      "metadata": {
        "id": "UwGAV1sIvI6E",
        "colab_type": "code",
        "colab": {}
      },
      "cell_type": "code",
      "source": [
        "plt.figure"
      ],
      "execution_count": 0,
      "outputs": []
    }
  ]
}